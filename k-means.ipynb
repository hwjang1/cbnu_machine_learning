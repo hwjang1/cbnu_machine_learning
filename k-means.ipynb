{
 "cells": [
  {
   "cell_type": "code",
   "execution_count": 1,
   "id": "b759c229",
   "metadata": {},
   "outputs": [],
   "source": [
    "import pandas as pd\n",
    "import random as rd\n",
    "import numpy as np\n",
    "from tqdm import tqdm"
   ]
  },
  {
   "cell_type": "code",
   "execution_count": 2,
   "id": "315a5b81",
   "metadata": {},
   "outputs": [],
   "source": [
    "K = 2"
   ]
  },
  {
   "cell_type": "code",
   "execution_count": 3,
   "id": "c3afd000",
   "metadata": {},
   "outputs": [
    {
     "name": "stdout",
     "output_type": "stream",
     "text": [
      "-------- samples init --------\n",
      "[[0.0, 0.5], [1.0, 0.0], [0.0, 1.0], [1.0, 1.0], [2.0, 1.0], [1.0, 2.0], [2.0, 2.0], [3.0, 2.0], [6.0, 6.0], [6.0, 7.0], [7.0, 6.0], [7.0, 7.0], [7.0, 8.0], [8.0, 6.0], [8.0, 7.0], [8.0, 8.0], [8.0, 9.0], [9.0, 7.0], [9.0, 8.0], [9.0, 9.0]]\n"
     ]
    }
   ],
   "source": [
    "print('-------- samples init --------')\n",
    "Samples = []\n",
    "Samples.append([0.0, 0.5])\n",
    "Samples.append([1.0, 0.0])\n",
    "Samples.append([0.0, 1.0])\n",
    "Samples.append([1.0, 1.0])\n",
    "Samples.append([2.0, 1.0])\n",
    "Samples.append([1.0, 2.0])\n",
    "Samples.append([2.0, 2.0])\n",
    "Samples.append([3.0, 2.0])\n",
    "Samples.append([6.0, 6.0])\n",
    "Samples.append([6.0, 7.0])\n",
    "Samples.append([7.0, 6.0])\n",
    "Samples.append([7.0, 7.0])\n",
    "Samples.append([7.0, 8.0])\n",
    "Samples.append([8.0, 6.0])\n",
    "Samples.append([8.0, 7.0])\n",
    "Samples.append([8.0, 8.0])\n",
    "Samples.append([8.0, 9.0])\n",
    "Samples.append([9.0, 7.0])\n",
    "Samples.append([9.0, 8.0])\n",
    "Samples.append([9.0, 9.0])\n",
    "print(Samples)"
   ]
  },
  {
   "cell_type": "code",
   "execution_count": 4,
   "id": "dac8cc0d",
   "metadata": {},
   "outputs": [
    {
     "name": "stdout",
     "output_type": "stream",
     "text": [
      "-------- to dataframe --------\n",
      "     x    y\n",
      "0  0.0  0.5\n",
      "1  1.0  0.0\n",
      "2  0.0  1.0\n",
      "3  1.0  1.0\n",
      "4  2.0  1.0\n"
     ]
    }
   ],
   "source": [
    "df = pd.DataFrame(Samples, columns=['x', 'y'])\n",
    "print('-------- to dataframe --------')\n",
    "print(df.head())"
   ]
  },
  {
   "cell_type": "code",
   "execution_count": 5,
   "id": "21cd004a",
   "metadata": {},
   "outputs": [
    {
     "name": "stdout",
     "output_type": "stream",
     "text": [
      "-------- centroid init --------\n",
      "[array([0. , 0.5]), array([1., 0.])]\n"
     ]
    }
   ],
   "source": [
    "print('-------- centroid init --------')\n",
    "centroids = []\n",
    "for _ in range(K):\n",
    "    #d = df.iloc[rd.randint(0, len(df) - 1)]\n",
    "    d = df.iloc[_]\n",
    "    centroids.append(np.array((d.x, d.y)))\n",
    "print(centroids)"
   ]
  },
  {
   "cell_type": "code",
   "execution_count": 6,
   "id": "54c89144",
   "metadata": {},
   "outputs": [
    {
     "name": "stdout",
     "output_type": "stream",
     "text": [
      "-------- calc centroid euclidean distance --------\n",
      "      x    y  centroid0  centroid1\n",
      "0   0.0  0.5   0.000000   1.118034\n",
      "1   1.0  0.0   1.118034   0.000000\n",
      "2   0.0  1.0   0.500000   1.414214\n",
      "3   1.0  1.0   1.118034   1.000000\n",
      "4   2.0  1.0   2.061553   1.414214\n",
      "5   1.0  2.0   1.802776   2.000000\n",
      "6   2.0  2.0   2.500000   2.236068\n",
      "7   3.0  2.0   3.354102   2.828427\n",
      "8   6.0  6.0   8.139410   7.810250\n",
      "9   6.0  7.0   8.845903   8.602325\n",
      "10  7.0  6.0   8.902247   8.485281\n",
      "11  7.0  7.0   9.552487   9.219544\n",
      "12  7.0  8.0  10.259142  10.000000\n",
      "13  8.0  6.0   9.708244   9.219544\n",
      "14  8.0  7.0  10.307764   9.899495\n",
      "15  8.0  8.0  10.965856  10.630146\n",
      "16  8.0  9.0  11.672618  11.401754\n",
      "17  9.0  7.0  11.101802  10.630146\n",
      "18  9.0  8.0  11.715375  11.313708\n",
      "19  9.0  9.0  12.379418  12.041595\n"
     ]
    }
   ],
   "source": [
    "print('-------- calc centroid euclidean distance --------')\n",
    "for i, centroid in enumerate(centroids):\n",
    "    df['centroid%s' % i] = df.apply(lambda x: np.linalg.norm(np.array((x['x'], x['y'])) - centroid), axis=1)\n",
    "print(df)"
   ]
  },
  {
   "cell_type": "code",
   "execution_count": 7,
   "id": "6b14f3c2",
   "metadata": {},
   "outputs": [
    {
     "name": "stdout",
     "output_type": "stream",
     "text": [
      "-------- \"select_cluster\" function init --------\n"
     ]
    }
   ],
   "source": [
    "print('-------- \"select_cluster\" function init --------')\n",
    "def select_cluster(rows):\n",
    "    centroid_val = []\n",
    "    for key in rows.keys():\n",
    "        if 'centroid' in key:\n",
    "            centroid_val.append({'key': key, 'val': rows[key]})\n",
    "    return min(centroid_val, key=lambda item:item['val'])['key']"
   ]
  },
  {
   "cell_type": "code",
   "execution_count": 8,
   "id": "9a5bd101",
   "metadata": {},
   "outputs": [
    {
     "name": "stdout",
     "output_type": "stream",
     "text": [
      "-------- select cluster --------\n",
      "      x    y  centroid0  centroid1    cluster\n",
      "0   0.0  0.5   0.000000   1.118034  centroid0\n",
      "1   1.0  0.0   1.118034   0.000000  centroid1\n",
      "2   0.0  1.0   0.500000   1.414214  centroid0\n",
      "3   1.0  1.0   1.118034   1.000000  centroid1\n",
      "4   2.0  1.0   2.061553   1.414214  centroid1\n",
      "5   1.0  2.0   1.802776   2.000000  centroid0\n",
      "6   2.0  2.0   2.500000   2.236068  centroid1\n",
      "7   3.0  2.0   3.354102   2.828427  centroid1\n",
      "8   6.0  6.0   8.139410   7.810250  centroid1\n",
      "9   6.0  7.0   8.845903   8.602325  centroid1\n",
      "10  7.0  6.0   8.902247   8.485281  centroid1\n",
      "11  7.0  7.0   9.552487   9.219544  centroid1\n",
      "12  7.0  8.0  10.259142  10.000000  centroid1\n",
      "13  8.0  6.0   9.708244   9.219544  centroid1\n",
      "14  8.0  7.0  10.307764   9.899495  centroid1\n",
      "15  8.0  8.0  10.965856  10.630146  centroid1\n",
      "16  8.0  9.0  11.672618  11.401754  centroid1\n",
      "17  9.0  7.0  11.101802  10.630146  centroid1\n",
      "18  9.0  8.0  11.715375  11.313708  centroid1\n",
      "19  9.0  9.0  12.379418  12.041595  centroid1\n"
     ]
    }
   ],
   "source": [
    "print('-------- select cluster --------')\n",
    "df['cluster'] = df.apply(lambda x: select_cluster(x), axis=1)\n",
    "print(df)"
   ]
  },
  {
   "cell_type": "code",
   "execution_count": 9,
   "id": "cf59ed65",
   "metadata": {},
   "outputs": [],
   "source": [
    "register_centroid = []"
   ]
  },
  {
   "cell_type": "code",
   "execution_count": 10,
   "id": "49d9da38",
   "metadata": {},
   "outputs": [
    {
     "name": "stdout",
     "output_type": "stream",
     "text": [
      "-------- loop centroid init --------\n",
      "[array([0.33333333, 1.16666667]), array([5.94117647, 5.52941176])]\n",
      "-------- loop calc centroid euclidean distance --------\n",
      "-------- loop select cluster --------\n",
      "-------- loop centroid init --------\n",
      "[array([1.25  , 1.1875]), array([7.66666667, 7.33333333])]\n",
      "-------- loop calc centroid euclidean distance --------\n",
      "-------- loop select cluster --------\n",
      "-------- loop centroid init --------\n"
     ]
    }
   ],
   "source": [
    "for loop_count in range(10):\n",
    "    print('-------- loop centroid init --------')\n",
    "    loop_centroids = []\n",
    "    for i in range(K):\n",
    "        loop_data = df[df['cluster'] == 'centroid%s' % i]\n",
    "        loop_x = loop_data['x'].sum() / len(loop_data)\n",
    "        loop_y = loop_data['y'].sum() / len(loop_data)\n",
    "        loop_centroids.append(np.array((loop_x, loop_y)))\n",
    "    if not np.array_equal(register_centroid, loop_centroids):\n",
    "        register_centroid = loop_centroids\n",
    "    else:\n",
    "        break\n",
    "    print('-------- loop calc centroid euclidean distance --------')\n",
    "    for i, centroid in enumerate(loop_centroids):\n",
    "        df['centroid%s' % i] = df.apply(lambda x: np.linalg.norm(np.array((x['x'], x['y'])) - centroid), axis=1)\n",
    "    print('-------- loop select cluster --------')\n",
    "    df['cluster'] = df.apply(lambda x: select_cluster(x), axis=1)"
   ]
  },
  {
   "cell_type": "code",
   "execution_count": 17,
   "id": "0a1867be",
   "metadata": {},
   "outputs": [
    {
     "name": "stdout",
     "output_type": "stream",
     "text": [
      "update centroid count : 2\n"
     ]
    }
   ],
   "source": [
    "print('update centroid count : %s' % loop_count)"
   ]
  },
  {
   "cell_type": "code",
   "execution_count": 22,
   "id": "e5cbe911",
   "metadata": {},
   "outputs": [
    {
     "name": "stdout",
     "output_type": "stream",
     "text": [
      "centroid_0 value -> 1.25, 1.1875\n",
      "centroid_%s members -> start\n",
      "     x    y  centroid0  centroid1    cluster\n",
      "0  0.0  0.5   1.426589  10.269967  centroid0\n",
      "1  1.0  0.0   1.213530   9.910712  centroid0\n",
      "2  0.0  1.0   1.263984   9.944289  centroid0\n",
      "3  1.0  1.0   0.312500   9.195409  centroid0\n",
      "4  2.0  1.0   0.773082   8.498366  centroid0\n",
      "5  1.0  2.0   0.850092   8.537499  centroid0\n",
      "6  2.0  2.0   1.105738   7.781745  centroid0\n",
      "7  3.0  2.0   1.929419   7.086764  centroid0\n",
      "centroid_%s members -> end\n",
      "\n",
      "\n",
      "centroid_1 value -> 7.666666666666667, 7.333333333333333\n",
      "centroid_%s members -> start\n",
      "      x    y  centroid0  centroid1    cluster\n",
      "8   6.0  6.0   6.761853   2.134375  centroid1\n",
      "9   6.0  7.0   7.506508   1.699673  centroid1\n",
      "10  7.0  6.0   7.498177   1.490712  centroid1\n",
      "11  7.0  7.0   8.176042   0.745356  centroid1\n",
      "12  7.0  8.0   8.914744   0.942809  centroid1\n",
      "13  8.0  6.0   8.289913   1.374369  centroid1\n",
      "14  8.0  7.0   8.907730   0.471405  centroid1\n",
      "15  8.0  8.0   9.590238   0.745356  centroid1\n",
      "16  8.0  9.0  10.324614   1.699673  centroid1\n",
      "17  9.0  7.0   9.687500   1.374369  centroid1\n",
      "18  9.0  8.0  10.318559   1.490712  centroid1\n",
      "19  9.0  9.0  11.004438   2.134375  centroid1\n",
      "centroid_%s members -> end\n",
      "\n",
      "\n"
     ]
    }
   ],
   "source": [
    "for i in range(K):\n",
    "    print('centroid_%s value -> %s, %s' % (i, register_centroid[i][0], register_centroid[i][1]))\n",
    "    print('centroid_%s members -> start')\n",
    "    print(df[df['cluster'] == 'centroid%s' % i])\n",
    "    print('centroid_%s members -> end')\n",
    "    print('\\n')"
   ]
  },
  {
   "cell_type": "code",
   "execution_count": null,
   "id": "64ac7a4b",
   "metadata": {},
   "outputs": [],
   "source": []
  },
  {
   "cell_type": "code",
   "execution_count": null,
   "id": "c9be6ae1",
   "metadata": {},
   "outputs": [],
   "source": []
  },
  {
   "cell_type": "code",
   "execution_count": null,
   "id": "d439273d",
   "metadata": {},
   "outputs": [],
   "source": []
  }
 ],
 "metadata": {
  "kernelspec": {
   "display_name": "Python 3 (ipykernel)",
   "language": "python",
   "name": "python3"
  },
  "language_info": {
   "codemirror_mode": {
    "name": "ipython",
    "version": 3
   },
   "file_extension": ".py",
   "mimetype": "text/x-python",
   "name": "python",
   "nbconvert_exporter": "python",
   "pygments_lexer": "ipython3",
   "version": "3.9.7"
  }
 },
 "nbformat": 4,
 "nbformat_minor": 5
}
